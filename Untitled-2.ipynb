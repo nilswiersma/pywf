{
 "cells": [
  {
   "cell_type": "code",
   "execution_count": 17,
   "metadata": {},
   "outputs": [],
   "source": [
    "import dask.dataframe as dd\n",
    "import pandas as pd\n",
    "import numpy as np\n",
    "import hvplot.dask\n",
    "import hvplot.pandas\n",
    "from hvplot import hvPlot\n",
    "\n",
    "import os"
   ]
  },
  {
   "cell_type": "code",
   "execution_count": 24,
   "metadata": {},
   "outputs": [
    {
     "data": {
      "text/plain": [
       "array([-116,  110,  -54, ...,  -10, -122,  -90], dtype=int8)"
      ]
     },
     "execution_count": 24,
     "metadata": {},
     "output_type": "execute_result"
    }
   ],
   "source": []
  },
  {
   "cell_type": "code",
   "execution_count": 37,
   "metadata": {},
   "outputs": [
    {
     "data": {
      "text/html": [
       "<div>\n",
       "<style scoped>\n",
       "    .dataframe tbody tr th:only-of-type {\n",
       "        vertical-align: middle;\n",
       "    }\n",
       "\n",
       "    .dataframe tbody tr th {\n",
       "        vertical-align: top;\n",
       "    }\n",
       "\n",
       "    .dataframe thead th {\n",
       "        text-align: right;\n",
       "    }\n",
       "</style>\n",
       "<table border=\"1\" class=\"dataframe\">\n",
       "  <thead>\n",
       "    <tr style=\"text-align: right;\">\n",
       "      <th></th>\n",
       "      <th>0</th>\n",
       "      <th>1</th>\n",
       "      <th>2</th>\n",
       "      <th>3</th>\n",
       "      <th>4</th>\n",
       "      <th>5</th>\n",
       "      <th>6</th>\n",
       "      <th>7</th>\n",
       "      <th>8</th>\n",
       "      <th>9</th>\n",
       "      <th>...</th>\n",
       "      <th>9990</th>\n",
       "      <th>9991</th>\n",
       "      <th>9992</th>\n",
       "      <th>9993</th>\n",
       "      <th>9994</th>\n",
       "      <th>9995</th>\n",
       "      <th>9996</th>\n",
       "      <th>9997</th>\n",
       "      <th>9998</th>\n",
       "      <th>9999</th>\n",
       "    </tr>\n",
       "  </thead>\n",
       "  <tbody>\n",
       "    <tr>\n",
       "      <th>0</th>\n",
       "      <td>-25</td>\n",
       "      <td>82</td>\n",
       "      <td>-107</td>\n",
       "      <td>105</td>\n",
       "      <td>-81</td>\n",
       "      <td>-24</td>\n",
       "      <td>74</td>\n",
       "      <td>-90</td>\n",
       "      <td>-92</td>\n",
       "      <td>-2</td>\n",
       "      <td>...</td>\n",
       "      <td>79</td>\n",
       "      <td>112</td>\n",
       "      <td>118</td>\n",
       "      <td>74</td>\n",
       "      <td>-89</td>\n",
       "      <td>41</td>\n",
       "      <td>-31</td>\n",
       "      <td>-12</td>\n",
       "      <td>82</td>\n",
       "      <td>41</td>\n",
       "    </tr>\n",
       "    <tr>\n",
       "      <th>1</th>\n",
       "      <td>-95</td>\n",
       "      <td>43</td>\n",
       "      <td>78</td>\n",
       "      <td>75</td>\n",
       "      <td>16</td>\n",
       "      <td>-99</td>\n",
       "      <td>15</td>\n",
       "      <td>-12</td>\n",
       "      <td>-72</td>\n",
       "      <td>-94</td>\n",
       "      <td>...</td>\n",
       "      <td>54</td>\n",
       "      <td>82</td>\n",
       "      <td>85</td>\n",
       "      <td>-39</td>\n",
       "      <td>24</td>\n",
       "      <td>-76</td>\n",
       "      <td>114</td>\n",
       "      <td>-19</td>\n",
       "      <td>-96</td>\n",
       "      <td>-123</td>\n",
       "    </tr>\n",
       "  </tbody>\n",
       "</table>\n",
       "<p>2 rows × 10000 columns</p>\n",
       "</div>"
      ],
      "text/plain": [
       "   0     1     2     3     4     5     6     7     8     9     ...  9990  \\\n",
       "0   -25    82  -107   105   -81   -24    74   -90   -92    -2  ...    79   \n",
       "1   -95    43    78    75    16   -99    15   -12   -72   -94  ...    54   \n",
       "\n",
       "   9991  9992  9993  9994  9995  9996  9997  9998  9999  \n",
       "0   112   118    74   -89    41   -31   -12    82    41  \n",
       "1    82    85   -39    24   -76   114   -19   -96  -123  \n",
       "\n",
       "[2 rows x 10000 columns]"
      ]
     },
     "execution_count": 37,
     "metadata": {},
     "output_type": "execute_result"
    }
   ],
   "source": [
    "df = pd.DataFrame(\n",
    "    data = [\n",
    "        np.frombuffer(os.urandom(10_000), dtype=np.int8),\n",
    "        np.frombuffer(os.urandom(10_000), dtype=np.int8),\n",
    "    ]\n",
    ")\n",
    "df"
   ]
  },
  {
   "cell_type": "code",
   "execution_count": 38,
   "metadata": {},
   "outputs": [],
   "source": [
    "df.to_parquet('testdata.parquet')"
   ]
  },
  {
   "cell_type": "code",
   "execution_count": 39,
   "metadata": {},
   "outputs": [],
   "source": [
    "df2 = pd.read_parquet('testdata.parquet')"
   ]
  },
  {
   "cell_type": "code",
   "execution_count": 45,
   "metadata": {},
   "outputs": [
    {
     "ename": "KeyboardInterrupt",
     "evalue": "",
     "output_type": "error",
     "traceback": [
      "\u001b[0;31m---------------------------------------------------------------------------\u001b[0m",
      "\u001b[0;31mKeyboardInterrupt\u001b[0m                         Traceback (most recent call last)",
      "Cell \u001b[0;32mIn[45], line 1\u001b[0m\n\u001b[0;32m----> 1\u001b[0m df2\u001b[39m.\u001b[39;49mhvplot\u001b[39m.\u001b[39;49mline(datashade\u001b[39m=\u001b[39;49m\u001b[39mTrue\u001b[39;49;00m)\n",
      "File \u001b[0;32m~/projects/wf-python/.venv/lib/python3.10/site-packages/hvplot/plotting/core.py:324\u001b[0m, in \u001b[0;36mhvPlotTabular.line\u001b[0;34m(self, x, y, **kwds)\u001b[0m\n\u001b[1;32m    229\u001b[0m \u001b[39mdef\u001b[39;00m \u001b[39mline\u001b[39m(\u001b[39mself\u001b[39m, x\u001b[39m=\u001b[39m\u001b[39mNone\u001b[39;00m, y\u001b[39m=\u001b[39m\u001b[39mNone\u001b[39;00m, \u001b[39m*\u001b[39m\u001b[39m*\u001b[39mkwds):\n\u001b[1;32m    230\u001b[0m \u001b[39m    \u001b[39m\u001b[39m\"\"\"\u001b[39;00m\n\u001b[1;32m    231\u001b[0m \u001b[39m    The `line` plot connects the points with a continous curve.\u001b[39;00m\n\u001b[1;32m    232\u001b[0m \n\u001b[0;32m   (...)\u001b[0m\n\u001b[1;32m    322\u001b[0m \u001b[39m    - Wiki: https://en.wikipedia.org/wiki/Line_chart\u001b[39;00m\n\u001b[1;32m    323\u001b[0m \u001b[39m    \"\"\"\u001b[39;00m\n\u001b[0;32m--> 324\u001b[0m     \u001b[39mreturn\u001b[39;00m \u001b[39mself\u001b[39;49m(x, y, kind\u001b[39m=\u001b[39;49m\u001b[39m\"\u001b[39;49m\u001b[39mline\u001b[39;49m\u001b[39m\"\u001b[39;49m, \u001b[39m*\u001b[39;49m\u001b[39m*\u001b[39;49mkwds)\n",
      "File \u001b[0;32m~/projects/wf-python/.venv/lib/python3.10/site-packages/hvplot/plotting/core.py:92\u001b[0m, in \u001b[0;36mhvPlotBase.__call__\u001b[0;34m(self, x, y, kind, **kwds)\u001b[0m\n\u001b[1;32m     89\u001b[0m         plot \u001b[39m=\u001b[39m \u001b[39mself\u001b[39m\u001b[39m.\u001b[39m_get_converter(x, y, kind, \u001b[39m*\u001b[39m\u001b[39m*\u001b[39mkwds)(kind, x, y)\n\u001b[1;32m     90\u001b[0m         \u001b[39mreturn\u001b[39;00m pn\u001b[39m.\u001b[39mpanel(plot, \u001b[39m*\u001b[39m\u001b[39m*\u001b[39mpanel_dict)\n\u001b[0;32m---> 92\u001b[0m \u001b[39mreturn\u001b[39;00m \u001b[39mself\u001b[39;49m\u001b[39m.\u001b[39;49m_get_converter(x, y, kind, \u001b[39m*\u001b[39;49m\u001b[39m*\u001b[39;49mkwds)(kind, x, y)\n",
      "File \u001b[0;32m~/projects/wf-python/.venv/lib/python3.10/site-packages/hvplot/converter.py:1230\u001b[0m, in \u001b[0;36mHoloViewsConverter.__call__\u001b[0;34m(self, kind, x, y)\u001b[0m\n\u001b[1;32m   1228\u001b[0m \u001b[39melse\u001b[39;00m:\n\u001b[1;32m   1229\u001b[0m     \u001b[39mtry\u001b[39;00m:\n\u001b[0;32m-> 1230\u001b[0m         dataset \u001b[39m=\u001b[39m Dataset(data, \u001b[39mself\u001b[39;49m\u001b[39m.\u001b[39;49mindexes)\n\u001b[1;32m   1231\u001b[0m     \u001b[39mexcept\u001b[39;00m \u001b[39mException\u001b[39;00m:\n\u001b[1;32m   1232\u001b[0m         dataset \u001b[39m=\u001b[39m Dataset(data)\n",
      "File \u001b[0;32m~/projects/wf-python/.venv/lib/python3.10/site-packages/holoviews/core/data/__init__.py:331\u001b[0m, in \u001b[0;36mDataset.__init__\u001b[0;34m(self, data, kdims, vdims, **kwargs)\u001b[0m\n\u001b[1;32m    328\u001b[0m kdims, vdims \u001b[39m=\u001b[39m kwargs\u001b[39m.\u001b[39mget(\u001b[39m'\u001b[39m\u001b[39mkdims\u001b[39m\u001b[39m'\u001b[39m), kwargs\u001b[39m.\u001b[39mget(\u001b[39m'\u001b[39m\u001b[39mvdims\u001b[39m\u001b[39m'\u001b[39m)\n\u001b[1;32m    330\u001b[0m validate_vdims \u001b[39m=\u001b[39m kwargs\u001b[39m.\u001b[39mpop(\u001b[39m'\u001b[39m\u001b[39m_validate_vdims\u001b[39m\u001b[39m'\u001b[39m, \u001b[39mTrue\u001b[39;00m)\n\u001b[0;32m--> 331\u001b[0m initialized \u001b[39m=\u001b[39m Interface\u001b[39m.\u001b[39;49minitialize(\u001b[39mtype\u001b[39;49m(\u001b[39mself\u001b[39;49m), data, kdims, vdims,\n\u001b[1;32m    332\u001b[0m                                    datatype\u001b[39m=\u001b[39;49mkwargs\u001b[39m.\u001b[39;49mget(\u001b[39m'\u001b[39;49m\u001b[39mdatatype\u001b[39;49m\u001b[39m'\u001b[39;49m))\n\u001b[1;32m    333\u001b[0m (data, \u001b[39mself\u001b[39m\u001b[39m.\u001b[39minterface, dims, extra_kws) \u001b[39m=\u001b[39m initialized\n\u001b[1;32m    334\u001b[0m \u001b[39msuper\u001b[39m()\u001b[39m.\u001b[39m\u001b[39m__init__\u001b[39m(data, \u001b[39m*\u001b[39m\u001b[39m*\u001b[39m\u001b[39mdict\u001b[39m(kwargs, \u001b[39m*\u001b[39m\u001b[39m*\u001b[39m\u001b[39mdict\u001b[39m(dims, \u001b[39m*\u001b[39m\u001b[39m*\u001b[39mextra_kws)))\n",
      "File \u001b[0;32m~/projects/wf-python/.venv/lib/python3.10/site-packages/holoviews/core/data/interface.py:253\u001b[0m, in \u001b[0;36mInterface.initialize\u001b[0;34m(cls, eltype, data, kdims, vdims, datatype)\u001b[0m\n\u001b[1;32m    251\u001b[0m     \u001b[39mcontinue\u001b[39;00m\n\u001b[1;32m    252\u001b[0m \u001b[39mtry\u001b[39;00m:\n\u001b[0;32m--> 253\u001b[0m     (data, dims, extra_kws) \u001b[39m=\u001b[39m interface\u001b[39m.\u001b[39;49minit(eltype, data, kdims, vdims)\n\u001b[1;32m    254\u001b[0m     \u001b[39mbreak\u001b[39;00m\n\u001b[1;32m    255\u001b[0m \u001b[39mexcept\u001b[39;00m DataError:\n",
      "File \u001b[0;32m~/projects/wf-python/.venv/lib/python3.10/site-packages/holoviews/core/data/pandas.py:97\u001b[0m, in \u001b[0;36mPandasInterface.init\u001b[0;34m(cls, eltype, data, kdims, vdims)\u001b[0m\n\u001b[1;32m     95\u001b[0m     \u001b[39mfor\u001b[39;00m d \u001b[39min\u001b[39;00m kdims\u001b[39m+\u001b[39mvdims:\n\u001b[1;32m     96\u001b[0m         d \u001b[39m=\u001b[39m dimension_name(d)\n\u001b[0;32m---> 97\u001b[0m         \u001b[39mif\u001b[39;00m \u001b[39mlen\u001b[39m([c \u001b[39mfor\u001b[39;00m c \u001b[39min\u001b[39;00m data\u001b[39m.\u001b[39mcolumns \u001b[39mif\u001b[39;00m c \u001b[39m==\u001b[39m d]) \u001b[39m>\u001b[39m \u001b[39m1\u001b[39m:\n\u001b[1;32m     98\u001b[0m             \u001b[39mraise\u001b[39;00m DataError(\u001b[39m'\u001b[39m\u001b[39mDimensions may not reference duplicated DataFrame \u001b[39m\u001b[39m'\u001b[39m\n\u001b[1;32m     99\u001b[0m                             \u001b[39m'\u001b[39m\u001b[39mcolumns (found duplicate \u001b[39m\u001b[39m%r\u001b[39;00m\u001b[39m columns). If you want to plot \u001b[39m\u001b[39m'\u001b[39m\n\u001b[1;32m    100\u001b[0m                             \u001b[39m'\u001b[39m\u001b[39ma column against itself simply declare two dimensions \u001b[39m\u001b[39m'\u001b[39m\n\u001b[1;32m    101\u001b[0m                             \u001b[39m'\u001b[39m\u001b[39mwith the same name. \u001b[39m\u001b[39m'\u001b[39m\u001b[39m%\u001b[39m d, \u001b[39mcls\u001b[39m)\n\u001b[1;32m    102\u001b[0m \u001b[39melse\u001b[39;00m:\n\u001b[1;32m    103\u001b[0m     \u001b[39m# Check if data is of non-numeric type\u001b[39;00m\n\u001b[1;32m    104\u001b[0m     \u001b[39m# Then use defined data type\u001b[39;00m\n",
      "File \u001b[0;32m~/projects/wf-python/.venv/lib/python3.10/site-packages/holoviews/core/data/pandas.py:97\u001b[0m, in \u001b[0;36m<listcomp>\u001b[0;34m(.0)\u001b[0m\n\u001b[1;32m     95\u001b[0m     \u001b[39mfor\u001b[39;00m d \u001b[39min\u001b[39;00m kdims\u001b[39m+\u001b[39mvdims:\n\u001b[1;32m     96\u001b[0m         d \u001b[39m=\u001b[39m dimension_name(d)\n\u001b[0;32m---> 97\u001b[0m         \u001b[39mif\u001b[39;00m \u001b[39mlen\u001b[39m([c \u001b[39mfor\u001b[39;00m c \u001b[39min\u001b[39;00m data\u001b[39m.\u001b[39mcolumns \u001b[39mif\u001b[39;00m c \u001b[39m==\u001b[39m d]) \u001b[39m>\u001b[39m \u001b[39m1\u001b[39m:\n\u001b[1;32m     98\u001b[0m             \u001b[39mraise\u001b[39;00m DataError(\u001b[39m'\u001b[39m\u001b[39mDimensions may not reference duplicated DataFrame \u001b[39m\u001b[39m'\u001b[39m\n\u001b[1;32m     99\u001b[0m                             \u001b[39m'\u001b[39m\u001b[39mcolumns (found duplicate \u001b[39m\u001b[39m%r\u001b[39;00m\u001b[39m columns). If you want to plot \u001b[39m\u001b[39m'\u001b[39m\n\u001b[1;32m    100\u001b[0m                             \u001b[39m'\u001b[39m\u001b[39ma column against itself simply declare two dimensions \u001b[39m\u001b[39m'\u001b[39m\n\u001b[1;32m    101\u001b[0m                             \u001b[39m'\u001b[39m\u001b[39mwith the same name. \u001b[39m\u001b[39m'\u001b[39m\u001b[39m%\u001b[39m d, \u001b[39mcls\u001b[39m)\n\u001b[1;32m    102\u001b[0m \u001b[39melse\u001b[39;00m:\n\u001b[1;32m    103\u001b[0m     \u001b[39m# Check if data is of non-numeric type\u001b[39;00m\n\u001b[1;32m    104\u001b[0m     \u001b[39m# Then use defined data type\u001b[39;00m\n",
      "\u001b[0;31mKeyboardInterrupt\u001b[0m: "
     ]
    }
   ],
   "source": [
    "df2.hvplot.line(datashade=True)"
   ]
  }
 ],
 "metadata": {
  "kernelspec": {
   "display_name": ".venv",
   "language": "python",
   "name": "python3"
  },
  "language_info": {
   "name": "python",
   "version": "3.10.6"
  },
  "orig_nbformat": 4
 },
 "nbformat": 4,
 "nbformat_minor": 2
}
